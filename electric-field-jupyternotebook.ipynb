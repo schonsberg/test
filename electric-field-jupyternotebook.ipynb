{
 "cells": [
  {
   "cell_type": "code",
   "execution_count": 2,
   "metadata": {},
   "outputs": [
    {
     "data": {
      "image/png": "[encoded data removed]",
      "text/plain": [
       "<Figure size 432x288 with 1 Axes>"
      ]
     },
     "metadata": {},
     "output_type": "display_data"
    },
    {
     "name": "stdout",
     "output_type": "stream",
     "text": [
      "n was calculated from the slope of the log-log plot to be 1.25\n"
     ]
    }
   ],
   "source": [
    "%matplotlib inline\n",
    "# Sam Schonsberg\n",
    "# PHSX 218\n",
    "# Electric Fields and Electric Potential Lab\n",
    "# 2/13/2019\n",
    "\n",
    "\n",
    "import numpy as np\n",
    "from matplotlib import pyplot as plt\n",
    "\n",
    "\n",
    "# Entering Variables\n",
    "r_mid = np.flip(np.array([.0125, .0175, .0225, .0275, .0325, .0375, .0425, .0475, .0525,\n",
    "                  .0575, .0625, .0675]),0) # in meters\n",
    "\n",
    "radii = np.array([.07,.065,.06,.055,.05,.045,.04,.035,.03,.025,.02,.015,.01])\n",
    "\n",
    "# readings from Channel 1\n",
    "volt1 = np.flip(np.array([4.4, 5.1, 5.7, 6.2, 6.8, 7.2, 7.5, 7.7, 7.9, 8.2, 8.3, 8.4, 8.5]),0)\n",
    "# readings from Channel 3 ( Channel 2 was bad )\n",
    "volt2 = np.flip(np.array([4.1, 5.1, 5.8, 6.3, 6.9, 7.2, 7.3, 7.6, 7.9, 8.1, 8.3, 8.4, 8.5]),0)\n",
    "\n",
    "volt_avg = (volt1+volt2)/2\n",
    "\n",
    "\n",
    "\n",
    "# Calculating the E field / log(E) / uncertainties\n",
    "fields = np.zeros([12])\n",
    "\n",
    "for i in np.arange(12):\n",
    "    E = (volt_avg[i+1]-volt_avg[i]) / (radii[i+1]-radii[i])\n",
    "    fields[i] = E\n",
    "\n",
    "unc_fields = np.zeros([12])\n",
    "\n",
    "for i in np.arange(12):\n",
    "    unc = fields[i]*np.sqrt((0.1 / (volt_avg[i+1]-volt_avg[i]))**2 + (.1/.5)**2)\n",
    "    unc_fields[i] = unc\n",
    "\n",
    "log_E = np.log(fields)\n",
    "\n",
    "unc_log_E = np.log(fields + unc_fields) - np.log(fields)\n",
    "\n",
    "\n",
    "# Making the plot and calculating n using np.polyfit degree 1\n",
    "\n",
    "plt.plot(np.log(r_mid), log_E,'ko')\n",
    "plt.errorbar(np.log(r_mid), log_E, unc_log_E, linestyle='')\n",
    "plt.xlabel('ln(r/ro)')\n",
    "plt.ylabel('ln(E/Eo)')\n",
    "plt.title('ln(E/Eo) vs ln(r/ro)')\n",
    "\n",
    "polys = np.polyfit(np.log(r_mid),log_E,1)\n",
    "\n",
    "n = -polys[0]\n",
    "\n",
    "plt.plot(np.log(r_mid),polys[0]*np.log(r_mid)+polys[1],'r--')\n",
    "plt.show()\n",
    "\n",
    "print 'n was calculated from the slope of the log-log plot to be', round(n,2)\n"
   ]
  },
  {
   "cell_type": "code",
   "execution_count": null,
   "metadata": {},
   "outputs": [],
   "source": []
  },
  {
   "cell_type": "code",
   "execution_count": null,
   "metadata": {},
   "outputs": [],
   "source": []
  }
 ],
 "metadata": {
  "kernelspec": {
   "display_name": "Python 2",
   "language": "python",
   "name": "python2"
  },
  "language_info": {
   "codemirror_mode": {
    "name": "ipython",
    "version": 2
   },
   "file_extension": ".py",
   "mimetype": "text/x-python",
   "name": "python",
   "nbconvert_exporter": "python",
   "pygments_lexer": "ipython2",
   "version": "2.7.15"
  }
 },
 "nbformat": 4,
 "nbformat_minor": 2
}
